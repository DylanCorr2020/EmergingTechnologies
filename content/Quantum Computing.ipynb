{
 "cells": [
  {
   "cell_type": "markdown",
   "id": "9dd5e986",
   "metadata": {},
   "source": [
    "# Quantum Computing\n",
    "\n",
    "Quantum computing is an area of computer science that uses the principles of quantum theory. Quantum theory explains the behavior of energy and material on the atomic and subatomic levels. [Investopedia](https://tinyurl.com/2r2rswks)\n",
    "\n",
    "Quantum Computing is where computer science meets quantum physics. Thanks to Einstean and Newton, we have a good understanding of matter, motion, time, space and how the universe generally functions. Behaviours that seem impossible to imagine on a human scale are predictable at a molecular level. Particles act like waves and can teleport from one place to another. In a quantum state particles can achieve something we call superposition , where they exist in mutiples states simultaneously. \n",
    "\n",
    "Computing as we know it, works with strings of bits in the form of 1s and 0s. This structure is limiting and not suitable for solving complex problems. Quantum computers run on quantum bits or qubits. A qubit can be 1 or 0 or both 1 and 0 simultaneously allowing computer power to grow exponentially. The long strings of qubits can perform computations to solve problems that takes today's computers a long time.\n",
    "\n",
    "Applications:Machine Learning, Chemistry Cryptography and Material Science and Engineering.\n",
    "\n",
    "### References\n",
    "Microsoft. (2016, November 18). Quantum Computing 101 [Video]. YouTube. https://www.youtube.com/watch?v=7__vKLECrnk"
   ]
  },
  {
   "cell_type": "code",
   "execution_count": null,
   "id": "11896fb6",
   "metadata": {},
   "outputs": [],
   "source": []
  }
 ],
 "metadata": {
  "kernelspec": {
   "display_name": "Python 3 (ipykernel)",
   "language": "python",
   "name": "python3"
  },
  "language_info": {
   "codemirror_mode": {
    "name": "ipython",
    "version": 3
   },
   "file_extension": ".py",
   "mimetype": "text/x-python",
   "name": "python",
   "nbconvert_exporter": "python",
   "pygments_lexer": "ipython3",
   "version": "3.9.15"
  }
 },
 "nbformat": 4,
 "nbformat_minor": 5
}

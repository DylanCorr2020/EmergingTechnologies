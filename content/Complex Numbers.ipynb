{
 "cells": [
  {
   "cell_type": "code",
   "execution_count": 34,
   "id": "5765f800",
   "metadata": {},
   "outputs": [
    {
     "name": "stdout",
     "output_type": "stream",
     "text": [
      "1st array :  [3 5]\n",
      "2nd array :  [-2  7]\n"
     ]
    }
   ],
   "source": [
    "import numpy as np\n",
    "arr1 = np.array([3,5])\n",
    "arr2 = np.array([-2,7])\n",
    "   \n",
    "print (\"1st array : \", arr1)  \n",
    "print (\"2nd array : \", arr2)  \n",
    " \n",
    "def add (x,y):\n",
    "    out_arr = np.add(x, y)  \n",
    "    #print (\"added array : \", out_arr) \n",
    "    return out_arr"
   ]
  },
  {
   "cell_type": "code",
   "execution_count": 35,
   "id": "1ccbfcb9",
   "metadata": {},
   "outputs": [
    {
     "data": {
      "text/plain": [
       "array([ 1, 12])"
      ]
     },
     "execution_count": 35,
     "metadata": {},
     "output_type": "execute_result"
    }
   ],
   "source": [
    "add(arr1,arr2)"
   ]
  },
  {
   "cell_type": "code",
   "execution_count": 11,
   "id": "4bf85de0",
   "metadata": {},
   "outputs": [],
   "source": [
    "def add(x,y):\n",
    "    return[x[0] + y[0],x[1] + y[1]]\n",
    "    "
   ]
  },
  {
   "cell_type": "code",
   "execution_count": 12,
   "id": "e59003cf",
   "metadata": {},
   "outputs": [
    {
     "data": {
      "text/plain": [
       "[1, 12]"
      ]
     },
     "execution_count": 12,
     "metadata": {},
     "output_type": "execute_result"
    }
   ],
   "source": [
    "add([3,5],[-2,7])"
   ]
  },
  {
   "cell_type": "code",
   "execution_count": 13,
   "id": "48946d0f",
   "metadata": {},
   "outputs": [],
   "source": [
    "def mult(x,y):\n",
    "    a,b = x\n",
    "    c,d = y\n",
    "    return [a * c - b * d,a * d + b * c]\n",
    "    "
   ]
  },
  {
   "cell_type": "code",
   "execution_count": 14,
   "id": "d23cfe53",
   "metadata": {},
   "outputs": [
    {
     "data": {
      "text/plain": [
       "[-41, 11]"
      ]
     },
     "execution_count": 14,
     "metadata": {},
     "output_type": "execute_result"
    }
   ],
   "source": [
    "mult([3,5],[-2,7])"
   ]
  },
  {
   "cell_type": "code",
   "execution_count": 18,
   "id": "c4691d42",
   "metadata": {},
   "outputs": [
    {
     "data": {
      "text/plain": [
       "(-41+11j)"
      ]
     },
     "execution_count": 18,
     "metadata": {},
     "output_type": "execute_result"
    }
   ],
   "source": [
    "(3 + 5j) * (-2 + 7j)"
   ]
  },
  {
   "cell_type": "code",
   "execution_count": 19,
   "id": "68767166",
   "metadata": {},
   "outputs": [
    {
     "data": {
      "text/plain": [
       "(1+12j)"
      ]
     },
     "execution_count": 19,
     "metadata": {},
     "output_type": "execute_result"
    }
   ],
   "source": [
    "(3+5j) + (-2 + 7j)"
   ]
  },
  {
   "cell_type": "code",
   "execution_count": 30,
   "id": "b2151f56",
   "metadata": {},
   "outputs": [
    {
     "ename": "SyntaxError",
     "evalue": "invalid syntax (Temp/ipykernel_8256/2766932687.py, line 13)",
     "output_type": "error",
     "traceback": [
      "\u001b[1;36m  File \u001b[1;32m\"C:\\Users\\DYLANC~2\\AppData\\Local\\Temp/ipykernel_8256/2766932687.py\"\u001b[1;36m, line \u001b[1;32m13\u001b[0m\n\u001b[1;33m    def __repr__(self):\u001b[0m\n\u001b[1;37m    ^\u001b[0m\n\u001b[1;31mSyntaxError\u001b[0m\u001b[1;31m:\u001b[0m invalid syntax\n"
     ]
    }
   ],
   "source": [
    "class Complex():\n",
    "    def __init__ (self, a, b):\n",
    "        self.a = a\n",
    "        self.b = b\n",
    "        \n",
    "    def __add__(self, other):\n",
    "        return [self.a + other.a + self.b + other.b]\n",
    "    \n",
    "    def __mul__(self, other):\n",
    "        return [self.a * other.a - self.b * other.b,\n",
    "                [self.a * other.b + self.b * other.a]\n",
    "                \n",
    "    def __repr__(self):\n",
    "        return str([self.a,self.b])"
   ]
  },
  {
   "cell_type": "code",
   "execution_count": null,
   "id": "04426005",
   "metadata": {},
   "outputs": [],
   "source": []
  },
  {
   "cell_type": "code",
   "execution_count": 39,
   "id": "002ada23",
   "metadata": {},
   "outputs": [],
   "source": [
    "import matplotlib.pyplot as plt"
   ]
  },
  {
   "cell_type": "code",
   "execution_count": 50,
   "id": "8ed464e3",
   "metadata": {},
   "outputs": [
    {
     "data": {
      "text/plain": [
       "[<matplotlib.lines.Line2D at 0x187d57549a0>]"
      ]
     },
     "execution_count": 50,
     "metadata": {},
     "output_type": "execute_result"
    },
    {
     "data": {
      "image/png": "[encoded data removed]",
      "text/plain": [
       "<Figure size 432x288 with 1 Axes>"
      ]
     },
     "metadata": {
      "needs_background": "light"
     },
     "output_type": "display_data"
    }
   ],
   "source": [
    "\n",
    "x = np.linspace(-6.0,6.0,1000)\n",
    "y = x**2 - 4.0\n",
    "\n",
    "fig, ax = plt.subplots()\n",
    "ax.axhline(0.0,color='grey')\n",
    "ax.plot(x,y)\n",
    "\n",
    "\n"
   ]
  },
  {
   "cell_type": "code",
   "execution_count": null,
   "id": "222f8e2b",
   "metadata": {},
   "outputs": [],
   "source": []
  }
 ],
 "metadata": {
  "kernelspec": {
   "display_name": "Python 3 (ipykernel)",
   "language": "python",
   "name": "python3"
  },
  "language_info": {
   "codemirror_mode": {
    "name": "ipython",
    "version": 3
   },
   "file_extension": ".py",
   "mimetype": "text/x-python",
   "name": "python",
   "nbconvert_exporter": "python",
   "pygments_lexer": "ipython3",
   "version": "3.9.7"
  }
 },
 "nbformat": 4,
 "nbformat_minor": 5
}

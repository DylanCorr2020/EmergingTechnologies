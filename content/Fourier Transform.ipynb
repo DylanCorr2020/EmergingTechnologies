{
 "cells": [
  {
   "cell_type": "markdown",
   "id": "1bef3087",
   "metadata": {},
   "source": [
    "### Fourier Transform"
   ]
  },
  {
   "cell_type": "markdown",
   "id": "7b8a7bcd",
   "metadata": {},
   "source": [
    "### Introduction\n",
    "\n",
    "Fourier Transform is a very important and useful technique to understand waves. Fourier Transform tries to approximate the signal (wave) of your interest using different kinds of sine and cosine waves.\n",
    "<img src=\"sin.png\" width = \"250\" height = \"250\"></img> <img src=\"cos.png\" width = \"250\" height = \"250\"></img> \n",
    "Sound travels in waves, the challange is to the break the wave down into its component waves.\n",
    "\n",
    "To do this, the stratedgy is to build a mathmatical machine that treats signals with a given frequency differntly from its other signals. \n",
    "\n",
    "Take a low 3 beats per second signal finate length of 0 to 4.5 seconds.\n",
    "<img src=\"wave01.png\" width = \"400\" height = \"400\"></img>\n",
    "\n",
    "Then wrap the signal around a circle.\n",
    "<img src=\"wave02.png\" width = \"250\" height = \"250\"></img>\n",
    "\n",
    "There are two differnt frequencies at play here.\n",
    "<br>\n",
    "1.The freqeuncy of our signal which goes up and down 3  times per second.\n",
    "<br>\n",
    "2.The freqeuncy with which we are wrapping the graph around the circle.\n"
   ]
  },
  {
   "cell_type": "code",
   "execution_count": null,
   "id": "4bf85de0",
   "metadata": {},
   "outputs": [],
   "source": [
    "\n",
    "    "
   ]
  },
  {
   "cell_type": "code",
   "execution_count": null,
   "id": "e59003cf",
   "metadata": {},
   "outputs": [],
   "source": []
  },
  {
   "cell_type": "code",
   "execution_count": null,
   "id": "48946d0f",
   "metadata": {},
   "outputs": [],
   "source": []
  },
  {
   "cell_type": "code",
   "execution_count": null,
   "id": "d23cfe53",
   "metadata": {},
   "outputs": [],
   "source": []
  },
  {
   "cell_type": "code",
   "execution_count": null,
   "id": "c4691d42",
   "metadata": {},
   "outputs": [],
   "source": []
  },
  {
   "cell_type": "code",
   "execution_count": null,
   "id": "68767166",
   "metadata": {},
   "outputs": [],
   "source": []
  },
  {
   "cell_type": "code",
   "execution_count": null,
   "id": "b2151f56",
   "metadata": {},
   "outputs": [],
   "source": []
  },
  {
   "cell_type": "code",
   "execution_count": null,
   "id": "04426005",
   "metadata": {},
   "outputs": [],
   "source": []
  },
  {
   "cell_type": "code",
   "execution_count": null,
   "id": "002ada23",
   "metadata": {},
   "outputs": [],
   "source": []
  },
  {
   "cell_type": "code",
   "execution_count": null,
   "id": "8ed464e3",
   "metadata": {},
   "outputs": [],
   "source": [
    "\n",
    "\n"
   ]
  },
  {
   "cell_type": "code",
   "execution_count": null,
   "id": "222f8e2b",
   "metadata": {},
   "outputs": [],
   "source": []
  }
 ],
 "metadata": {
  "kernelspec": {
   "display_name": "Python 3 (ipykernel)",
   "language": "python",
   "name": "python3"
  },
  "language_info": {
   "codemirror_mode": {
    "name": "ipython",
    "version": 3
   },
   "file_extension": ".py",
   "mimetype": "text/x-python",
   "name": "python",
   "nbconvert_exporter": "python",
   "pygments_lexer": "ipython3",
   "version": "3.9.15"
  }
 },
 "nbformat": 4,
 "nbformat_minor": 5
}

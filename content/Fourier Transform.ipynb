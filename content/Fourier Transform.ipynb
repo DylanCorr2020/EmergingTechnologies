{
 "cells": [
  {
   "cell_type": "markdown",
   "id": "1bef3087",
   "metadata": {},
   "source": [
    "## Fast Fourier Transform"
   ]
  },
  {
   "cell_type": "markdown",
   "id": "7b8a7bcd",
   "metadata": {},
   "source": [
    "### Introduction\n",
    "\n",
    "The Discrete Fourier Transform is a mathematical operation that breaks down a function into its constituent frequencies. It is a powerful tool for analyzing signals and understanding the frequency content of a signal. It can be used to analyze periodic signals, as well as non-periodic signals such as those found in audio and image processing. It has many applications in quantum computing, including the design and analysis of quantum algorithms and the simulation of quantum systems.\n",
    "\n",
    "The Fast Fourier Transform is a more efficient, faster algorithm for calculating the Discrete Fourier Transform. It significantly reduces the computational complexity. \n",
    "\n",
    "\n",
    "\n"
   ]
  },
  {
   "cell_type": "markdown",
   "id": "6c544a8d",
   "metadata": {},
   "source": [
    "### Fast Fourier Transform\n",
    "The following code imports the NumPy and SciPy libraries.They are used them to compute the Fast Fourier Transform.\n",
    "A numpy array, x, contains the input signal. The input to the fft.fft() function is a sequence of numbers that represents a discrete, periodic signal. The fft.fft() function computes the Fast Fourier Transform of the input array x and returns the result as a Numpy array y. The output numpy array y is a sequence of complex numbers that encodes the strength of each frequency component in the input signal. It has a number for each frequency component in the signal. The real part of each number encodes the strength of the corresponding frequency component in the signal, and the imaginary part encodes the phase shift of the component.\n"
   ]
  },
  {
   "cell_type": "code",
   "execution_count": 1,
   "id": "518c5c3f",
   "metadata": {},
   "outputs": [],
   "source": [
    "# Numerical arrays.\n",
    "import numpy as np\n",
    "\n",
    "# Fast Fourier transform.\n",
    "import scipy.fft as fft"
   ]
  },
  {
   "cell_type": "code",
   "execution_count": 2,
   "id": "4bf85de0",
   "metadata": {},
   "outputs": [
    {
     "data": {
      "text/plain": [
       "array([ 1. ,  2. ,  1. , -1. ,  1.5])"
      ]
     },
     "execution_count": 2,
     "metadata": {},
     "output_type": "execute_result"
    }
   ],
   "source": [
    "# Create a test array.\n",
    "x = np.array([1.0, 2.0, 1.0, -1.0, 1.5])\n",
    "x"
   ]
  },
  {
   "cell_type": "code",
   "execution_count": 3,
   "id": "e59003cf",
   "metadata": {},
   "outputs": [
    {
     "data": {
      "text/plain": [
       "array([ 4.5       -0.j        ,  2.08155948-1.65109876j,\n",
       "       -1.83155948+1.60822041j, -1.83155948-1.60822041j,\n",
       "        2.08155948+1.65109876j])"
      ]
     },
     "execution_count": 3,
     "metadata": {},
     "output_type": "execute_result"
    }
   ],
   "source": [
    "# Apply the fast Fourier transform to x.\n",
    "y = fft.fft(x)\n",
    "y"
   ]
  },
  {
   "cell_type": "markdown",
   "id": "ee0e2430",
   "metadata": {},
   "source": [
    "### Inverse Fourier Transform\n",
    "The inverse Fourier transform is an operation that converts a frequency representation of a signal back into its time domain representation. It is the inverse of the Fourier transform. The code below takes the output from the Fast Fourier Transform and converts it back into the original signal."
   ]
  },
  {
   "cell_type": "code",
   "execution_count": 4,
   "id": "d23cfe53",
   "metadata": {},
   "outputs": [
    {
     "data": {
      "text/plain": [
       "array([ 1. +0.j,  2. +0.j,  1. +0.j, -1. +0.j,  1.5+0.j])"
      ]
     },
     "execution_count": 4,
     "metadata": {},
     "output_type": "execute_result"
    }
   ],
   "source": [
    "# Invert the previous Fourier transform applied to x.\n",
    "yinv = fft.ifft(y)\n",
    "yinv"
   ]
  },
  {
   "cell_type": "markdown",
   "id": "c044ad05",
   "metadata": {},
   "source": [
    "We expect arrays x and yinv to contain the same values, but they sometimes differ due to numerical errors that can arise when working with floating point numbers. The first element of the arrays x and yinv, 1.0 and (1.0000000000000002+0j) are not exactly equal, but they are very close to each other. You can use the np.isclose() function from the NumPy library that will determine wether the elements of the arrays x and yinv. In this case it says they are."
   ]
  },
  {
   "cell_type": "code",
   "execution_count": 5,
   "id": "c4691d42",
   "metadata": {},
   "outputs": [
    {
     "data": {
      "text/plain": [
       "array([False,  True,  True,  True,  True])"
      ]
     },
     "execution_count": 5,
     "metadata": {},
     "output_type": "execute_result"
    }
   ],
   "source": [
    "# Are x and yinv equal?\n",
    "x == yinv"
   ]
  },
  {
   "cell_type": "code",
   "execution_count": 6,
   "id": "68767166",
   "metadata": {},
   "outputs": [
    {
     "data": {
      "text/plain": [
       "1.0"
      ]
     },
     "execution_count": 6,
     "metadata": {},
     "output_type": "execute_result"
    }
   ],
   "source": [
    "x[0]"
   ]
  },
  {
   "cell_type": "code",
   "execution_count": 7,
   "id": "b2151f56",
   "metadata": {},
   "outputs": [
    {
     "data": {
      "text/plain": [
       "(1.0000000000000002+0j)"
      ]
     },
     "execution_count": 7,
     "metadata": {},
     "output_type": "execute_result"
    }
   ],
   "source": [
    "yinv[0]"
   ]
  },
  {
   "cell_type": "code",
   "execution_count": 8,
   "id": "04426005",
   "metadata": {},
   "outputs": [
    {
     "data": {
      "text/plain": [
       "array([ True,  True,  True,  True,  True])"
      ]
     },
     "execution_count": 8,
     "metadata": {},
     "output_type": "execute_result"
    }
   ],
   "source": [
    "# Adapted from: https://stackoverflow.com/a/39758154\n",
    "np.isclose(x, yinv)"
   ]
  },
  {
   "cell_type": "markdown",
   "id": "c5c6efb3",
   "metadata": {},
   "source": [
    "## The Discrete Fourier Transform Formula"
   ]
  },
  {
   "cell_type": "markdown",
   "id": "6f20c6c1",
   "metadata": {},
   "source": [
    "$$y[k] = \\sum_{n=0}^{N-1} e^{-2 \\pi j \\frac{kn}{N}} x[n]$$\n",
    "\n"
   ]
  },
  {
   "cell_type": "markdown",
   "id": "c398957f",
   "metadata": {},
   "source": [
    "The Discrete Fourier Transform is a mathematical operation that decomposes a finite sequence of data points into its constituent frequencies by expressing it as a linear combination of complex exponentials.\n",
    "\n",
    "\n",
    "To explain the above formula:\n",
    "* x[n] is the discrete signal in the time domain. N is length of the signal.\n",
    "* y[k] expresses the signal as a linear combination of complex       exponentials in the frequency domain.\n",
    "* The symbol ∑ represents a sum, which is a mathematical operation that involves the addition of a sequence of numbers. In this formula, the sum is taken over the range n = 0 to N - 1, which means that the transform considers the contribution of x[n] at all values of n.\n",
    "* The term $e^{-2 \\pi j \\frac{kn}{N}}$ is called the complex exponential function, and it plays a central role in the Discrete Fourier Transform. The exponent is a complex number, where j is the imaginary unit and k is the frequency. The function oscillates at a frequency of k and is used to weight the contribution of x[n] at each value of n.\n",
    "* The term ${-2 \\pi}$ is called the argument of the exponent. It determines the angle of rotation of the complex exponential function in the complex plane.\n",
    "\n"
   ]
  },
  {
   "cell_type": "markdown",
   "id": "ba6d248d",
   "metadata": {},
   "source": [
    "The code below implements the above formula.\n",
    "\n",
    "The outer loop iterates over the range of k from 0 to N-1, where N is the length of the signal. The inner loop iterates over the range of n from 0 to N-1, which means that the transform considers the contribution of x[n] at all values of n. \n",
    "\n",
    "At each iteration of the loop, the code calculates the contribution of x[n] to the frequency k using the formula:\n",
    "\n",
    "y_k = y_k + (np.e**(-2 * np.pi * 1j * k * n / N) * x[n])\n",
    "\n",
    "\n"
   ]
  },
  {
   "cell_type": "code",
   "execution_count": 11,
   "id": "8ccc7fa1",
   "metadata": {},
   "outputs": [
    {
     "data": {
      "text/plain": [
       "array([ 4.5       +0.j        ,  2.08155948-1.65109876j,\n",
       "       -1.83155948+1.60822041j, -1.83155948-1.60822041j,\n",
       "        2.08155948+1.65109876j])"
      ]
     },
     "execution_count": 11,
     "metadata": {},
     "output_type": "execute_result"
    }
   ],
   "source": [
    "# Calculate by hand.\n",
    "\n",
    "# Output array.\n",
    "y = []\n",
    "\n",
    "N = len(x)\n",
    "\n",
    "for k in range(N):\n",
    "    y_k = 0.0\n",
    "    for n in range(N):\n",
    "        y_k = y_k + (np.e**(-2 * np.pi * 1j * k * n / N) * x[n])\n",
    "    y.append(y_k)\n",
    "    \n",
    "np.array(y)"
   ]
  },
  {
   "cell_type": "markdown",
   "id": "d1795404",
   "metadata": {},
   "source": [
    "Another way of doing this is using scipy library which is a powerful library for scientific and technical computing in Python. \n",
    "It provides a wide range of algorithms and tools for working with numerical data. It is widely used in many areas of science and engineering. In regard to signal processing it provides functions for filtering, convolution, and other operations on signals.\n",
    "\n"
   ]
  },
  {
   "cell_type": "markdown",
   "id": "49116481",
   "metadata": {},
   "source": [
    "This code generates a range of x (input) values for a discrete signal and displays them. It uses the scipy and matplotlib.pyplot libraries."
   ]
  },
  {
   "cell_type": "code",
   "execution_count": 13,
   "id": "69329455",
   "metadata": {},
   "outputs": [
    {
     "data": {
      "text/plain": [
       "array([0.     , 0.00125, 0.0025 , 0.00375, 0.005  , 0.00625, 0.0075 ,\n",
       "       0.00875, 0.01   , 0.01125, 0.0125 , 0.01375, 0.015  , 0.01625,\n",
       "       0.0175 , 0.01875, 0.02   , 0.02125, 0.0225 , 0.02375, 0.025  ,\n",
       "       0.02625, 0.0275 , 0.02875, 0.03   , 0.03125, 0.0325 , 0.03375,\n",
       "       0.035  , 0.03625, 0.0375 , 0.03875, 0.04   , 0.04125, 0.0425 ,\n",
       "       0.04375, 0.045  , 0.04625, 0.0475 , 0.04875, 0.05   , 0.05125,\n",
       "       0.0525 , 0.05375, 0.055  , 0.05625, 0.0575 , 0.05875, 0.06   ,\n",
       "       0.06125, 0.0625 , 0.06375, 0.065  , 0.06625, 0.0675 , 0.06875,\n",
       "       0.07   , 0.07125, 0.0725 , 0.07375, 0.075  , 0.07625, 0.0775 ,\n",
       "       0.07875, 0.08   , 0.08125, 0.0825 , 0.08375, 0.085  , 0.08625,\n",
       "       0.0875 , 0.08875, 0.09   , 0.09125, 0.0925 , 0.09375, 0.095  ,\n",
       "       0.09625, 0.0975 , 0.09875, 0.1    , 0.10125, 0.1025 , 0.10375,\n",
       "       0.105  , 0.10625, 0.1075 , 0.10875, 0.11   , 0.11125, 0.1125 ,\n",
       "       0.11375, 0.115  , 0.11625, 0.1175 , 0.11875, 0.12   , 0.12125,\n",
       "       0.1225 , 0.12375, 0.125  , 0.12625, 0.1275 , 0.12875, 0.13   ,\n",
       "       0.13125, 0.1325 , 0.13375, 0.135  , 0.13625, 0.1375 , 0.13875,\n",
       "       0.14   , 0.14125, 0.1425 , 0.14375, 0.145  , 0.14625, 0.1475 ,\n",
       "       0.14875, 0.15   , 0.15125, 0.1525 , 0.15375, 0.155  , 0.15625,\n",
       "       0.1575 , 0.15875, 0.16   , 0.16125, 0.1625 , 0.16375, 0.165  ,\n",
       "       0.16625, 0.1675 , 0.16875, 0.17   , 0.17125, 0.1725 , 0.17375,\n",
       "       0.175  , 0.17625, 0.1775 , 0.17875, 0.18   , 0.18125, 0.1825 ,\n",
       "       0.18375, 0.185  , 0.18625, 0.1875 , 0.18875, 0.19   , 0.19125,\n",
       "       0.1925 , 0.19375, 0.195  , 0.19625, 0.1975 , 0.19875, 0.2    ,\n",
       "       0.20125, 0.2025 , 0.20375, 0.205  , 0.20625, 0.2075 , 0.20875,\n",
       "       0.21   , 0.21125, 0.2125 , 0.21375, 0.215  , 0.21625, 0.2175 ,\n",
       "       0.21875, 0.22   , 0.22125, 0.2225 , 0.22375, 0.225  , 0.22625,\n",
       "       0.2275 , 0.22875, 0.23   , 0.23125, 0.2325 , 0.23375, 0.235  ,\n",
       "       0.23625, 0.2375 , 0.23875, 0.24   , 0.24125, 0.2425 , 0.24375,\n",
       "       0.245  , 0.24625, 0.2475 , 0.24875, 0.25   , 0.25125, 0.2525 ,\n",
       "       0.25375, 0.255  , 0.25625, 0.2575 , 0.25875, 0.26   , 0.26125,\n",
       "       0.2625 , 0.26375, 0.265  , 0.26625, 0.2675 , 0.26875, 0.27   ,\n",
       "       0.27125, 0.2725 , 0.27375, 0.275  , 0.27625, 0.2775 , 0.27875,\n",
       "       0.28   , 0.28125, 0.2825 , 0.28375, 0.285  , 0.28625, 0.2875 ,\n",
       "       0.28875, 0.29   , 0.29125, 0.2925 , 0.29375, 0.295  , 0.29625,\n",
       "       0.2975 , 0.29875, 0.3    , 0.30125, 0.3025 , 0.30375, 0.305  ,\n",
       "       0.30625, 0.3075 , 0.30875, 0.31   , 0.31125, 0.3125 , 0.31375,\n",
       "       0.315  , 0.31625, 0.3175 , 0.31875, 0.32   , 0.32125, 0.3225 ,\n",
       "       0.32375, 0.325  , 0.32625, 0.3275 , 0.32875, 0.33   , 0.33125,\n",
       "       0.3325 , 0.33375, 0.335  , 0.33625, 0.3375 , 0.33875, 0.34   ,\n",
       "       0.34125, 0.3425 , 0.34375, 0.345  , 0.34625, 0.3475 , 0.34875,\n",
       "       0.35   , 0.35125, 0.3525 , 0.35375, 0.355  , 0.35625, 0.3575 ,\n",
       "       0.35875, 0.36   , 0.36125, 0.3625 , 0.36375, 0.365  , 0.36625,\n",
       "       0.3675 , 0.36875, 0.37   , 0.37125, 0.3725 , 0.37375, 0.375  ,\n",
       "       0.37625, 0.3775 , 0.37875, 0.38   , 0.38125, 0.3825 , 0.38375,\n",
       "       0.385  , 0.38625, 0.3875 , 0.38875, 0.39   , 0.39125, 0.3925 ,\n",
       "       0.39375, 0.395  , 0.39625, 0.3975 , 0.39875, 0.4    , 0.40125,\n",
       "       0.4025 , 0.40375, 0.405  , 0.40625, 0.4075 , 0.40875, 0.41   ,\n",
       "       0.41125, 0.4125 , 0.41375, 0.415  , 0.41625, 0.4175 , 0.41875,\n",
       "       0.42   , 0.42125, 0.4225 , 0.42375, 0.425  , 0.42625, 0.4275 ,\n",
       "       0.42875, 0.43   , 0.43125, 0.4325 , 0.43375, 0.435  , 0.43625,\n",
       "       0.4375 , 0.43875, 0.44   , 0.44125, 0.4425 , 0.44375, 0.445  ,\n",
       "       0.44625, 0.4475 , 0.44875, 0.45   , 0.45125, 0.4525 , 0.45375,\n",
       "       0.455  , 0.45625, 0.4575 , 0.45875, 0.46   , 0.46125, 0.4625 ,\n",
       "       0.46375, 0.465  , 0.46625, 0.4675 , 0.46875, 0.47   , 0.47125,\n",
       "       0.4725 , 0.47375, 0.475  , 0.47625, 0.4775 , 0.47875, 0.48   ,\n",
       "       0.48125, 0.4825 , 0.48375, 0.485  , 0.48625, 0.4875 , 0.48875,\n",
       "       0.49   , 0.49125, 0.4925 , 0.49375, 0.495  , 0.49625, 0.4975 ,\n",
       "       0.49875, 0.5    , 0.50125, 0.5025 , 0.50375, 0.505  , 0.50625,\n",
       "       0.5075 , 0.50875, 0.51   , 0.51125, 0.5125 , 0.51375, 0.515  ,\n",
       "       0.51625, 0.5175 , 0.51875, 0.52   , 0.52125, 0.5225 , 0.52375,\n",
       "       0.525  , 0.52625, 0.5275 , 0.52875, 0.53   , 0.53125, 0.5325 ,\n",
       "       0.53375, 0.535  , 0.53625, 0.5375 , 0.53875, 0.54   , 0.54125,\n",
       "       0.5425 , 0.54375, 0.545  , 0.54625, 0.5475 , 0.54875, 0.55   ,\n",
       "       0.55125, 0.5525 , 0.55375, 0.555  , 0.55625, 0.5575 , 0.55875,\n",
       "       0.56   , 0.56125, 0.5625 , 0.56375, 0.565  , 0.56625, 0.5675 ,\n",
       "       0.56875, 0.57   , 0.57125, 0.5725 , 0.57375, 0.575  , 0.57625,\n",
       "       0.5775 , 0.57875, 0.58   , 0.58125, 0.5825 , 0.58375, 0.585  ,\n",
       "       0.58625, 0.5875 , 0.58875, 0.59   , 0.59125, 0.5925 , 0.59375,\n",
       "       0.595  , 0.59625, 0.5975 , 0.59875, 0.6    , 0.60125, 0.6025 ,\n",
       "       0.60375, 0.605  , 0.60625, 0.6075 , 0.60875, 0.61   , 0.61125,\n",
       "       0.6125 , 0.61375, 0.615  , 0.61625, 0.6175 , 0.61875, 0.62   ,\n",
       "       0.62125, 0.6225 , 0.62375, 0.625  , 0.62625, 0.6275 , 0.62875,\n",
       "       0.63   , 0.63125, 0.6325 , 0.63375, 0.635  , 0.63625, 0.6375 ,\n",
       "       0.63875, 0.64   , 0.64125, 0.6425 , 0.64375, 0.645  , 0.64625,\n",
       "       0.6475 , 0.64875, 0.65   , 0.65125, 0.6525 , 0.65375, 0.655  ,\n",
       "       0.65625, 0.6575 , 0.65875, 0.66   , 0.66125, 0.6625 , 0.66375,\n",
       "       0.665  , 0.66625, 0.6675 , 0.66875, 0.67   , 0.67125, 0.6725 ,\n",
       "       0.67375, 0.675  , 0.67625, 0.6775 , 0.67875, 0.68   , 0.68125,\n",
       "       0.6825 , 0.68375, 0.685  , 0.68625, 0.6875 , 0.68875, 0.69   ,\n",
       "       0.69125, 0.6925 , 0.69375, 0.695  , 0.69625, 0.6975 , 0.69875,\n",
       "       0.7    , 0.70125, 0.7025 , 0.70375, 0.705  , 0.70625, 0.7075 ,\n",
       "       0.70875, 0.71   , 0.71125, 0.7125 , 0.71375, 0.715  , 0.71625,\n",
       "       0.7175 , 0.71875, 0.72   , 0.72125, 0.7225 , 0.72375, 0.725  ,\n",
       "       0.72625, 0.7275 , 0.72875, 0.73   , 0.73125, 0.7325 , 0.73375,\n",
       "       0.735  , 0.73625, 0.7375 , 0.73875, 0.74   , 0.74125, 0.7425 ,\n",
       "       0.74375, 0.745  , 0.74625, 0.7475 , 0.74875])"
      ]
     },
     "execution_count": 13,
     "metadata": {},
     "output_type": "execute_result"
    }
   ],
   "source": [
    "import scipy\n",
    "\n",
    "import matplotlib.pyplot as plt\n",
    "# Number of samples.\n",
    "N = 600\n",
    "\n",
    "# Spacing between samples.\n",
    "T = 1.0 / 800.0\n",
    "\n",
    "# Range of x (input) values.\n",
    "x = np.linspace(0.0, N*T, N, endpoint=False)\n",
    "\n",
    "# Have a look at x.\n",
    "x"
   ]
  },
  {
   "cell_type": "markdown",
   "id": "0c618f22",
   "metadata": {},
   "source": [
    "## References \n",
    "Fourier transforms (scipy.fft)# (no date) Fourier Transforms (scipy.fft) - SciPy v1.9.3 Manual. Available at: https://docs.scipy.org/doc/scipy/tutorial/fft.html#d-discrete-fourier-transforms (Accessed: December 25, 2022). \n",
    "\n",
    "But what is the Fourier Transform? A visual introduction. (2018) YouTube. YouTube. Available at: https://www.youtube.com/watch?v=spUNpyF58BY&amp;t=900s (Accessed: December 25, 2022).\n",
    "\n",
    "An interactive guide to the Fourier transform (no date) BetterExplained. Available at: https://betterexplained.com/articles/an-interactive-guide-to-the-fourier-transform/ (Accessed: December 25, 2022). "
   ]
  },
  {
   "cell_type": "code",
   "execution_count": null,
   "id": "9d49bc3d",
   "metadata": {},
   "outputs": [],
   "source": []
  }
 ],
 "metadata": {
  "kernelspec": {
   "display_name": "Python 3 (ipykernel)",
   "language": "python",
   "name": "python3"
  },
  "language_info": {
   "codemirror_mode": {
    "name": "ipython",
    "version": 3
   },
   "file_extension": ".py",
   "mimetype": "text/x-python",
   "name": "python",
   "nbconvert_exporter": "python",
   "pygments_lexer": "ipython3",
   "version": "3.9.15"
  }
 },
 "nbformat": 4,
 "nbformat_minor": 5
}

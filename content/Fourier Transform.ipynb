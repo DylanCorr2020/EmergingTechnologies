{
 "cells": [
  {
   "cell_type": "markdown",
   "id": "1bef3087",
   "metadata": {},
   "source": [
    "## Fast Fourier Transform"
   ]
  },
  {
   "attachments": {},
   "cell_type": "markdown",
   "id": "7b8a7bcd",
   "metadata": {},
   "source": [
    "### Introduction\n",
    "\n",
    "The Discrete Fourier Transform is a mathematical operation that breaks down a function into its constituent frequencies. It is a powerful tool for analyzing signals and understanding the frequency content of a signal. It can be used to analyze periodic signals, as well as non-periodic signals such as those found in audio and image processing. It has many applications in quantum computing, including the design and analysis of quantum algorithms and the simulation of quantum systems.\n",
    "\n",
    "The Fast Fourier Transform is a more efficient, faster algorithm for calculating the Discrete Fourier Transform. It significantly reduces the computational complexity. \n",
    "\n",
    "\n",
    "\n"
   ]
  },
  {
   "cell_type": "markdown",
   "id": "6c544a8d",
   "metadata": {},
   "source": [
    "### Fast Fourier Transform\n",
    "The following code imports the NumPy and SciPy libraries and uses them to compute the fast Fourier transform.\n",
    "Create a numpy array x to be used as the input signal.The fft.fft() function computes the Fast Fourier Transform of the input array x and returns the result as a NumPy array y.\n",
    "\n",
    "The output NumPy array y is a list of complex numbers that encodes the strength of each frequency component in the input signal.\n",
    "The input to the fft.fft() function is a sequence of numbers that represents a discrete, periodic signal. \n",
    "\n",
    "The output array is a sequence of complex numbers, with each number for each frequency component in the signal. The real part of each number encodes the strength of the corresponding frequency component in the signal, and the imaginary part encodes the phase shift of the component.\n"
   ]
  },
  {
   "cell_type": "code",
   "execution_count": 7,
   "id": "518c5c3f",
   "metadata": {},
   "outputs": [],
   "source": [
    "# Numerical arrays.\n",
    "import numpy as np\n",
    "\n",
    "# Fast Fourier transform.\n",
    "import scipy.fft as fft"
   ]
  },
  {
   "cell_type": "code",
   "execution_count": 8,
   "id": "4bf85de0",
   "metadata": {},
   "outputs": [
    {
     "data": {
      "text/plain": [
       "array([ 1. ,  2. ,  1. , -1. ,  1.5])"
      ]
     },
     "execution_count": 8,
     "metadata": {},
     "output_type": "execute_result"
    }
   ],
   "source": [
    "# Create a test array.\n",
    "x = np.array([1.0, 2.0, 1.0, -1.0, 1.5])\n",
    "x"
   ]
  },
  {
   "cell_type": "code",
   "execution_count": 9,
   "id": "e59003cf",
   "metadata": {},
   "outputs": [
    {
     "data": {
      "text/plain": [
       "array([ 4.5       -0.j        ,  2.08155948-1.65109876j,\n",
       "       -1.83155948+1.60822041j, -1.83155948-1.60822041j,\n",
       "        2.08155948+1.65109876j])"
      ]
     },
     "execution_count": 9,
     "metadata": {},
     "output_type": "execute_result"
    }
   ],
   "source": [
    "# Apply the fast Fourier transform to x.\n",
    "y = fft.fft(x)\n",
    "y"
   ]
  },
  {
   "cell_type": "markdown",
   "id": "ee0e2430",
   "metadata": {},
   "source": [
    "### Inverse Fourier Transform\n",
    "The inverse Fourier transform is an operation that converts a frequency representation of a signal back into its time domain representation. It is the inverse of the Fourier transform. "
   ]
  },
  {
   "cell_type": "code",
   "execution_count": 11,
   "id": "d23cfe53",
   "metadata": {},
   "outputs": [
    {
     "data": {
      "text/plain": [
       "array([ 1. +0.j,  2. +0.j,  1. +0.j, -1. +0.j,  1.5+0.j])"
      ]
     },
     "execution_count": 11,
     "metadata": {},
     "output_type": "execute_result"
    }
   ],
   "source": [
    "# Invert the previous Fourier transform applied to x.\n",
    "yinv = fft.ifft(y)\n",
    "yinv"
   ]
  },
  {
   "cell_type": "code",
   "execution_count": null,
   "id": "c4691d42",
   "metadata": {},
   "outputs": [],
   "source": []
  },
  {
   "cell_type": "code",
   "execution_count": null,
   "id": "68767166",
   "metadata": {},
   "outputs": [],
   "source": []
  },
  {
   "cell_type": "code",
   "execution_count": null,
   "id": "b2151f56",
   "metadata": {},
   "outputs": [],
   "source": []
  },
  {
   "cell_type": "code",
   "execution_count": null,
   "id": "04426005",
   "metadata": {},
   "outputs": [],
   "source": []
  },
  {
   "cell_type": "code",
   "execution_count": null,
   "id": "002ada23",
   "metadata": {},
   "outputs": [],
   "source": []
  },
  {
   "cell_type": "code",
   "execution_count": null,
   "id": "8ed464e3",
   "metadata": {},
   "outputs": [],
   "source": [
    "\n",
    "\n"
   ]
  },
  {
   "cell_type": "code",
   "execution_count": null,
   "id": "222f8e2b",
   "metadata": {},
   "outputs": [],
   "source": []
  }
 ],
 "metadata": {
  "kernelspec": {
   "display_name": "Python 3 (ipykernel)",
   "language": "python",
   "name": "python3"
  },
  "language_info": {
   "codemirror_mode": {
    "name": "ipython",
    "version": 3
   },
   "file_extension": ".py",
   "mimetype": "text/x-python",
   "name": "python",
   "nbconvert_exporter": "python",
   "pygments_lexer": "ipython3",
   "version": "3.9.15"
  }
 },
 "nbformat": 4,
 "nbformat_minor": 5
}

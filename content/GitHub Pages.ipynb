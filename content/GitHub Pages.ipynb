{
 "cells": [
  {
   "cell_type": "markdown",
   "id": "0da794ae",
   "metadata": {},
   "source": [
    "## Git Hub Pages and Actions\n",
    "- - -\n",
    "\n",
    "This notebook is about GitHub Pages and GitHub Actions."
   ]
  },
  {
   "cell_type": "markdown",
   "id": "e798e2cb",
   "metadata": {},
   "source": [
    "GitHub Pages is a static site hosting service. It takes HTML, CSS, and JavaScript files from a repository on GitHub and optionally runs these files through a build process, and publishes a website.  GitHub Pages is generally only for static content.\n",
    "\n",
    "### How to setup Github Pages?\n",
    "Step 1. Create a github repository.<br>\n",
    "Step 2. Enable Pages in the repository settings <br>\n",
    "Step 3. Setup Github actions using config files\n"
   ]
  },
  {
   "attachments": {},
   "cell_type": "markdown",
   "id": "c4f0b5e4",
   "metadata": {},
   "source": [
    "### GitHub Actions\n",
    "GitHub Actions are scripts that run based on triggers related to a GitHub repository. GitHub Actions automate, customize, and execute your software development workflows right in your repository with GitHub.\n",
    "\n",
    "#### Triggers\n",
    "An example might be a commit. \n",
    "\n",
    "#### Actions\n",
    "\n"
   ]
  }
 ],
 "metadata": {
  "kernelspec": {
   "display_name": "Python 3 (ipykernel)",
   "language": "python",
   "name": "python3"
  },
  "language_info": {
   "codemirror_mode": {
    "name": "ipython",
    "version": 3
   },
   "file_extension": ".py",
   "mimetype": "text/x-python",
   "name": "python",
   "nbconvert_exporter": "python",
   "pygments_lexer": "ipython3",
   "version": "3.9.7"
  }
 },
 "nbformat": 4,
 "nbformat_minor": 5
}

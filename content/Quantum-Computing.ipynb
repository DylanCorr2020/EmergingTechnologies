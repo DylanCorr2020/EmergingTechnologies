{
 "cells": [
  {
   "cell_type": "markdown",
   "id": "f1c64e6d",
   "metadata": {},
   "source": [
    "## Introduction"
   ]
  },
  {
   "cell_type": "markdown",
   "id": "8f20e46c",
   "metadata": {},
   "source": [
    "Quantum computing is an area of computer science that uses the principles of quantum theory. Quantum theory explains the behavior of energy and material on the atomic and subatomic levels. [Investopedia](https://tinyurl.com/2r2rswks)"
   ]
  },
  {
   "cell_type": "markdown",
   "id": "3edfbb79",
   "metadata": {},
   "source": [
    "## Simulate a Turing machine using Python\n",
    "The Turing machine was invented in 1936 by Alan Turing. A Turing machine is a mathematical model of computation describing an abstract machine. It manipulates symbols on a strip of tape according to a table of rules.The python algorithm below simulates the turning machine. \n",
    "\n",
    "A turing machine is a set of cells with an arrow pointing at one of them and that arrow can be in a given state.The programmer comes up with the rules for the arrow.The state table explains the set of rules that need to be followed. \n",
    "\n",
    "When a state points at a certain number or empty cell, a set of rules apply. The table has two states X and Y. The symbols that work on a turing machine are {1,0,_}. As a programmer,we create the rules for this table. An '_' means that the cell is empty or null.\n",
    "\n",
    "The state at the top left of the rules is where you start. You look at what state you are in and what is the arrow pointing at and follow the set of rules on the right.\n",
    "\n",
    "E.g. In state X the arrow is pointing on '1', overwrite with '1', move arrow to the right, and change state to Y.\n",
    "\n",
    "There is no rule for state T and F. They are terminal states which means the program is finished. T means true and F means false. T means you accept the tape and F means you reject it.\n",
    "\n",
    "If you start with 1 you end in false. If there is an even number of 1's its true, and if its an odd number of 1's then the result is false.\n",
    "If you put all cells to blank it imediatly returns true.\n",
    "\n",
    "\n"
   ]
  },
  {
   "cell_type": "code",
   "execution_count": 1,
   "id": "993c2269",
   "metadata": {},
   "outputs": [
    {
     "name": "stdout",
     "output_type": "stream",
     "text": [
      "X0101111\n",
      "0X101111\n",
      "01Y01111\n",
      "010Y1111\n",
      "0101X111\n",
      "01011Y11\n",
      "010111X1\n",
      "0101111Y_\n",
      "0101111_F_\n"
     ]
    }
   ],
   "source": [
    "# State table.\n",
    "table = {\n",
    "    ('X', '_'): ['_', 'R', 'T'],\n",
    "    ('X', '0'): ['0', 'R', 'X'],\n",
    "    ('X', '1'): ['1', 'R', 'Y'],\n",
    "    ('Y', '_'): ['_', 'R', 'F'],\n",
    "    ('Y', '0'): ['0', 'R', 'Y'],\n",
    "    ('Y', '1'): ['1', 'R', 'X'],\n",
    "}\n",
    "\n",
    "# Tape input.\n",
    "tape = list('0101111')\n",
    "# Position on tape.\n",
    "pos = 0\n",
    "# Initial state is first in table.\n",
    "state = 'X'\n",
    "\n",
    "# Keep going while we are not in a halting state.\n",
    "while state not in ['T', 'F']:\n",
    "    # Print the current status.\n",
    "    print(''.join(tape[:pos]) + state + ''.join(tape[pos:]))\n",
    "    # Get the row of the table.\n",
    "    row = table[(state, tape[pos])]\n",
    "    # Overwrite the symbol.\n",
    "    tape[pos] = row[0]\n",
    "    # Move left or right.\n",
    "    if row[1] == 'R':\n",
    "        # Put blanks on tape as necessary.\n",
    "        if pos == len(tape) - 1:\n",
    "            tape = tape + ['_']\n",
    "        # Increase position.\n",
    "        pos = pos + 1\n",
    "    else:\n",
    "        # Put blanks on tape as necessary.\n",
    "        if pos == 0:\n",
    "            tape = ['_'] + tape\n",
    "            # The position on the tape has to move with it.\n",
    "            pos = pos + 1\n",
    "        # Decrease position.\n",
    "        pos = pos - 1\n",
    "    # Update the state.\n",
    "    state = row[2]\n",
    "\n",
    "# Print the current status.\n",
    "print(''.join(tape[:pos]) + state + ''.join(tape[pos:]))"
   ]
  },
  {
   "cell_type": "code",
   "execution_count": null,
   "id": "f46214b0",
   "metadata": {},
   "outputs": [],
   "source": []
  }
 ],
 "metadata": {
  "kernelspec": {
   "display_name": "Python 3 (ipykernel)",
   "language": "python",
   "name": "python3"
  },
  "language_info": {
   "codemirror_mode": {
    "name": "ipython",
    "version": 3
   },
   "file_extension": ".py",
   "mimetype": "text/x-python",
   "name": "python",
   "nbconvert_exporter": "python",
   "pygments_lexer": "ipython3",
   "version": "3.9.7"
  }
 },
 "nbformat": 4,
 "nbformat_minor": 5
}
